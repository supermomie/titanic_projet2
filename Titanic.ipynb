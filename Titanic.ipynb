{
 "cells": [
  {
   "cell_type": "markdown",
   "metadata": {},
   "source": [
    "# IMPORTATIONS"
   ]
  },
  {
   "cell_type": "markdown",
   "metadata": {},
   "source": [
    "## Librairies"
   ]
  },
  {
   "cell_type": "code",
   "execution_count": 1,
   "metadata": {
    "ExecuteTime": {
     "end_time": "2020-04-08T07:52:30.246438Z",
     "start_time": "2020-04-08T07:52:28.017842Z"
    }
   },
   "outputs": [],
   "source": [
    "import pandas as pd\n",
    "import numpy as np\n",
    "import matplotlib.pyplot as plt\n",
    "import seaborn as sns\n",
    "%matplotlib inline\n",
    "sns.set_style('darkgrid', {'legend.frameon':True})"
   ]
  },
  {
   "cell_type": "markdown",
   "metadata": {},
   "source": [
    "## Datasets"
   ]
  },
  {
   "cell_type": "code",
   "execution_count": 2,
   "metadata": {
    "ExecuteTime": {
     "end_time": "2020-04-08T07:52:30.272407Z",
     "start_time": "2020-04-08T07:52:30.249418Z"
    }
   },
   "outputs": [],
   "source": [
    "train = pd.read_csv(\"/home/fakhredine/Documents/microsoft/DB/CSV/titatic/train.csv\")\n",
    "test = pd.read_csv(\"/home/fakhredine/Documents/microsoft/DB/CSV/titatic/test.csv\")\n",
    "# gender = pd.read_csv(\"/home/fakhredine/Documents/microsoft/DB/CSV/titatic/gender_submission.csv\")"
   ]
  },
  {
   "cell_type": "markdown",
   "metadata": {},
   "source": [
    "# DATA EXPLORATION"
   ]
  },
  {
   "cell_type": "markdown",
   "metadata": {},
   "source": [
    "### Data preparation"
   ]
  },
  {
   "cell_type": "code",
   "execution_count": 3,
   "metadata": {
    "ExecuteTime": {
     "end_time": "2020-04-08T07:52:30.285398Z",
     "start_time": "2020-04-08T07:52:30.275403Z"
    }
   },
   "outputs": [
    {
     "data": {
      "text/plain": [
       "PassengerId      int64\n",
       "Survived         int64\n",
       "Pclass           int64\n",
       "Name            object\n",
       "Sex             object\n",
       "Age            float64\n",
       "SibSp            int64\n",
       "Parch            int64\n",
       "Ticket          object\n",
       "Fare           float64\n",
       "Cabin           object\n",
       "Embarked        object\n",
       "dtype: object"
      ]
     },
     "execution_count": 3,
     "metadata": {},
     "output_type": "execute_result"
    }
   ],
   "source": [
    "train.dtypes"
   ]
  },
  {
   "cell_type": "markdown",
   "metadata": {},
   "source": [
    "### Informations sur les colonnes"
   ]
  },
  {
   "cell_type": "code",
   "execution_count": 4,
   "metadata": {
    "ExecuteTime": {
     "end_time": "2020-04-08T07:52:35.321513Z",
     "start_time": "2020-04-08T07:52:30.315382Z"
    },
    "scrolled": true
   },
   "outputs": [
    {
     "data": {
      "application/vnd.jupyter.widget-view+json": {
       "model_id": "0b238031ba69453bbbe7442bb0da6f30",
       "version_major": 2,
       "version_minor": 0
      },
      "text/plain": [
       "HBox(children=(FloatProgress(value=0.0, description='variables', max=12.0, style=ProgressStyle(description_wid…"
      ]
     },
     "metadata": {},
     "output_type": "display_data"
    },
    {
     "name": "stdout",
     "output_type": "stream",
     "text": [
      "\n"
     ]
    },
    {
     "data": {
      "application/vnd.jupyter.widget-view+json": {
       "model_id": "6608a29d2f124b9caf80e618fc541d0b",
       "version_major": 2,
       "version_minor": 0
      },
      "text/plain": [
       "HBox(children=(FloatProgress(value=0.0, description='correlations', max=6.0, style=ProgressStyle(description_w…"
      ]
     },
     "metadata": {},
     "output_type": "display_data"
    },
    {
     "name": "stdout",
     "output_type": "stream",
     "text": [
      "\n"
     ]
    },
    {
     "data": {
      "application/vnd.jupyter.widget-view+json": {
       "model_id": "cd670219e5004c59b61535a5d505bbe6",
       "version_major": 2,
       "version_minor": 0
      },
      "text/plain": [
       "HBox(children=(FloatProgress(value=0.0, description='interactions [continuous]', max=25.0, style=ProgressStyle…"
      ]
     },
     "metadata": {},
     "output_type": "display_data"
    },
    {
     "name": "stdout",
     "output_type": "stream",
     "text": [
      "\n"
     ]
    },
    {
     "data": {
      "application/vnd.jupyter.widget-view+json": {
       "model_id": "81be9495c3af4e6aafc96ca4158a3ba8",
       "version_major": 2,
       "version_minor": 0
      },
      "text/plain": [
       "HBox(children=(FloatProgress(value=0.0, description='table', max=1.0, style=ProgressStyle(description_width='i…"
      ]
     },
     "metadata": {},
     "output_type": "display_data"
    },
    {
     "name": "stdout",
     "output_type": "stream",
     "text": [
      "\n"
     ]
    },
    {
     "data": {
      "application/vnd.jupyter.widget-view+json": {
       "model_id": "9b5573ac584143d7aea165ad4afb184a",
       "version_major": 2,
       "version_minor": 0
      },
      "text/plain": [
       "HBox(children=(FloatProgress(value=0.0, description='missing', max=4.0, style=ProgressStyle(description_width=…"
      ]
     },
     "metadata": {},
     "output_type": "display_data"
    },
    {
     "name": "stdout",
     "output_type": "stream",
     "text": [
      "\n"
     ]
    },
    {
     "data": {
      "application/vnd.jupyter.widget-view+json": {
       "model_id": "9399967b144143be9dfed63b88bad640",
       "version_major": 2,
       "version_minor": 0
      },
      "text/plain": [
       "HBox(children=(FloatProgress(value=0.0, description='warnings', max=3.0, style=ProgressStyle(description_width…"
      ]
     },
     "metadata": {},
     "output_type": "display_data"
    },
    {
     "name": "stdout",
     "output_type": "stream",
     "text": [
      "\n"
     ]
    },
    {
     "data": {
      "application/vnd.jupyter.widget-view+json": {
       "model_id": "f659b4fac45d491b901e4190a9fbac6a",
       "version_major": 2,
       "version_minor": 0
      },
      "text/plain": [
       "HBox(children=(FloatProgress(value=0.0, description='package', max=1.0, style=ProgressStyle(description_width=…"
      ]
     },
     "metadata": {},
     "output_type": "display_data"
    },
    {
     "name": "stdout",
     "output_type": "stream",
     "text": [
      "\n"
     ]
    },
    {
     "data": {
      "application/vnd.jupyter.widget-view+json": {
       "model_id": "0d015699175b4a749dae4badf3c7dc84",
       "version_major": 2,
       "version_minor": 0
      },
      "text/plain": [
       "HBox(children=(FloatProgress(value=0.0, description='build report structure', max=1.0, style=ProgressStyle(des…"
      ]
     },
     "metadata": {},
     "output_type": "display_data"
    },
    {
     "name": "stdout",
     "output_type": "stream",
     "text": [
      "\n"
     ]
    },
    {
     "data": {
      "text/plain": [
       "'\\nPAR COLONNES:\\nPassengerId: rien à signaler\\nSurvived: vals(0,1) OK; sur 891 personnes, 342 mortes soit 38.4%\\nPclass: vals(1,2,3) OK; Dans la Pclass=1 il y avait 216 personnes soit 24.2% (~ Pclass= 2 ou 3)\\nName: sans intérêts apparents\\nSex: vals(male,female) OK; 577 male sur 891 personnes soit 64.8% (~ female)\\nAge: vals_disctinct=89; MISSING = 20% = 177/891; Mean=29.7 (~ stats); histogramme à étudier\\nSibSp: vals(0,1,2,3,4,5,8) val(0).count()=608 soit 68.2% (~ vals); MISSING 68.2%\\nParch: vals(0,1,2,3,4,5,6) val(0).count()=678 soit 76.1% (~ vals)\\nTicket: vals_dictinct=681; 76.4% Unique\\nFare: vals_dictinct=248; 27.8% Unique; ZEROS=1.7%; cf stats\\nCabin: MISSING = 77.1% = 687/891\\nEmbarked: vals(S, C, Q, 2missing); S.count() = 644 (~vals)\\n\\nCORRELATIONS ENTRE LES COLONNES:\\ncorr(Parch,SibSp) = 0.41\\ncorr(Pclass,Fare) = -0.55\\ncorr(Pclass,Survived), corr(Age, Pclass), corr(SibSp, Age) in [0.3, 0.4]\\ncorr(Fare, survived) = 0.26; corr(Fare, Parch) = 0.22\\n   => corr(Fare, [Survived, Pclass, Parch])?\\n'"
      ]
     },
     "execution_count": 4,
     "metadata": {},
     "output_type": "execute_result"
    }
   ],
   "source": [
    "import pandas_profiling\n",
    "pandas_profiling.ProfileReport(train)\n",
    "'''\n",
    "PAR COLONNES:\n",
    "PassengerId: rien à signaler\n",
    "Survived: vals(0,1) OK; sur 891 personnes, 342 mortes soit 38.4%\n",
    "Pclass: vals(1,2,3) OK; Dans la Pclass=1 il y avait 216 personnes soit 24.2% (~ Pclass= 2 ou 3)\n",
    "Name: sans intérêts apparents\n",
    "Sex: vals(male,female) OK; 577 male sur 891 personnes soit 64.8% (~ female)\n",
    "Age: vals_disctinct=89; MISSING = 20% = 177/891; Mean=29.7 (~ stats); histogramme à étudier\n",
    "SibSp: vals(0,1,2,3,4,5,8) val(0).count()=608 soit 68.2% (~ vals); MISSING 68.2%\n",
    "Parch: vals(0,1,2,3,4,5,6) val(0).count()=678 soit 76.1% (~ vals)\n",
    "Ticket: vals_dictinct=681; 76.4% Unique\n",
    "Fare: vals_dictinct=248; 27.8% Unique; ZEROS=1.7%; cf stats\n",
    "Cabin: MISSING = 77.1% = 687/891\n",
    "Embarked: vals(S, C, Q, 2missing); S.count() = 644 (~vals)\n",
    "\n",
    "CORRELATIONS ENTRE LES COLONNES:\n",
    "corr(Parch,SibSp) = 0.41\n",
    "corr(Pclass,Fare) = -0.55\n",
    "corr(Pclass,Survived), corr(Age, Pclass), corr(SibSp, Age) in [0.3, 0.4]\n",
    "corr(Fare, survived) = 0.26; corr(Fare, Parch) = 0.22\n",
    "   => corr(Fare, [Survived, Pclass, Parch])?\n",
    "'''"
   ]
  },
  {
   "cell_type": "code",
   "execution_count": 5,
   "metadata": {
    "ExecuteTime": {
     "end_time": "2020-04-08T07:58:13.772255Z",
     "start_time": "2020-04-08T07:58:13.203563Z"
    }
   },
   "outputs": [
    {
     "data": {
      "image/png": "[encoded data removed]",
      "text/plain": [
       "<Figure size 432x432 with 2 Axes>"
      ]
     },
     "metadata": {
      "needs_background": "light"
     },
     "output_type": "display_data"
    }
   ],
   "source": [
    "%matplotlib inline \n",
    "fig, ax = plt.subplots(figsize=(6,6))  \n",
    "corr = train.corr()\n",
    "ax =sns.heatmap(corr, annot = True, vmin=-1, vmax=1, center= 0, cmap= 'coolwarm')\n",
    "plt.tight_layout()\n",
    "plt.show()\n",
    "# TABLEAU SUR LES COEFFICIENTS DE CORRELATION: train.corr(method='pearson') # OU spearman"
   ]
  },
  {
   "cell_type": "markdown",
   "metadata": {},
   "source": [
    "# DATA CLEANING"
   ]
  },
  {
   "cell_type": "code",
   "execution_count": 6,
   "metadata": {
    "ExecuteTime": {
     "end_time": "2020-04-08T08:30:54.991912Z",
     "start_time": "2020-04-08T08:30:54.954933Z"
    }
   },
   "outputs": [
    {
     "name": "stdout",
     "output_type": "stream",
     "text": [
      "Les colonnes concernées sont: ['Age', 'Embarked']\n",
      "Les colonnes concernées sont: ['Age', 'Fare']\n"
     ]
    },
    {
     "data": {
      "text/html": [
       "<div>\n",
       "<style scoped>\n",
       "    .dataframe tbody tr th:only-of-type {\n",
       "        vertical-align: middle;\n",
       "    }\n",
       "\n",
       "    .dataframe tbody tr th {\n",
       "        vertical-align: top;\n",
       "    }\n",
       "\n",
       "    .dataframe thead th {\n",
       "        text-align: right;\n",
       "    }\n",
       "</style>\n",
       "<table border=\"1\" class=\"dataframe\">\n",
       "  <thead>\n",
       "    <tr style=\"text-align: right;\">\n",
       "      <th></th>\n",
       "      <th>Survived</th>\n",
       "      <th>Pclass</th>\n",
       "      <th>Age</th>\n",
       "      <th>Fare</th>\n",
       "      <th>Embarked</th>\n",
       "      <th>Female</th>\n",
       "    </tr>\n",
       "  </thead>\n",
       "  <tbody>\n",
       "    <tr>\n",
       "      <th>0</th>\n",
       "      <td>0</td>\n",
       "      <td>3</td>\n",
       "      <td>22.0</td>\n",
       "      <td>7.2500</td>\n",
       "      <td>83</td>\n",
       "      <td>0</td>\n",
       "    </tr>\n",
       "    <tr>\n",
       "      <th>1</th>\n",
       "      <td>1</td>\n",
       "      <td>1</td>\n",
       "      <td>38.0</td>\n",
       "      <td>71.2833</td>\n",
       "      <td>67</td>\n",
       "      <td>1</td>\n",
       "    </tr>\n",
       "    <tr>\n",
       "      <th>2</th>\n",
       "      <td>1</td>\n",
       "      <td>3</td>\n",
       "      <td>26.0</td>\n",
       "      <td>7.9250</td>\n",
       "      <td>83</td>\n",
       "      <td>1</td>\n",
       "    </tr>\n",
       "    <tr>\n",
       "      <th>3</th>\n",
       "      <td>1</td>\n",
       "      <td>1</td>\n",
       "      <td>35.0</td>\n",
       "      <td>53.1000</td>\n",
       "      <td>83</td>\n",
       "      <td>1</td>\n",
       "    </tr>\n",
       "    <tr>\n",
       "      <th>4</th>\n",
       "      <td>0</td>\n",
       "      <td>3</td>\n",
       "      <td>35.0</td>\n",
       "      <td>8.0500</td>\n",
       "      <td>83</td>\n",
       "      <td>0</td>\n",
       "    </tr>\n",
       "  </tbody>\n",
       "</table>\n",
       "</div>"
      ],
      "text/plain": [
       "   Survived  Pclass   Age     Fare  Embarked  Female\n",
       "0         0       3  22.0   7.2500        83       0\n",
       "1         1       1  38.0  71.2833        67       1\n",
       "2         1       3  26.0   7.9250        83       1\n",
       "3         1       1  35.0  53.1000        83       1\n",
       "4         0       3  35.0   8.0500        83       0"
      ]
     },
     "execution_count": 6,
     "metadata": {},
     "output_type": "execute_result"
    }
   ],
   "source": [
    "def cleaning(data):\n",
    "    # Colonnes sans intérêt\n",
    "    data = data.drop([\"PassengerId\", \"Name\", 'SibSp', 'Parch', \"Cabin\", \"Ticket\"], axis=1)\n",
    "    # Création de la colonne Female (0,1) pour remplacer 'Sex'\n",
    "    data['Female']=list(map(lambda x: int(x=='female'), data['Sex']))\n",
    "    data = data.drop([\"Sex\"], axis=1)\n",
    "    # Colonnes ayant des Nan et suppression des lignes correspondantes\n",
    "    print('Les colonnes concernées sont:',data.columns[data.isna().any()].tolist()) \n",
    "    data = data.dropna(axis=0, how='any', thresh=None, subset=None, inplace=False)\n",
    "    # embarked transcrite sur le code touche clavier (keycode)\n",
    "    data['Embarked'] = [ord(i) for i in data['Embarked']] # compris entre 65 et 90\n",
    "         # chr(code) pour retranscription\n",
    "    return data\n",
    "c_train = cleaning(train)\n",
    "c_test = cleaning(test)\n",
    "c_train. head()"
   ]
  },
  {
   "cell_type": "code",
   "execution_count": 7,
   "metadata": {
    "ExecuteTime": {
     "end_time": "2020-04-08T07:52:35.650327Z",
     "start_time": "2020-04-08T07:52:35.623342Z"
    }
   },
   "outputs": [
    {
     "data": {
      "text/html": [
       "<div>\n",
       "<style scoped>\n",
       "    .dataframe tbody tr th:only-of-type {\n",
       "        vertical-align: middle;\n",
       "    }\n",
       "\n",
       "    .dataframe tbody tr th {\n",
       "        vertical-align: top;\n",
       "    }\n",
       "\n",
       "    .dataframe thead th {\n",
       "        text-align: right;\n",
       "    }\n",
       "</style>\n",
       "<table border=\"1\" class=\"dataframe\">\n",
       "  <thead>\n",
       "    <tr style=\"text-align: right;\">\n",
       "      <th></th>\n",
       "      <th>Survived</th>\n",
       "      <th>Pclass</th>\n",
       "      <th>Age</th>\n",
       "      <th>Fare</th>\n",
       "      <th>Embarked</th>\n",
       "      <th>Female</th>\n",
       "    </tr>\n",
       "  </thead>\n",
       "  <tbody>\n",
       "    <tr>\n",
       "      <th>count</th>\n",
       "      <td>712.000000</td>\n",
       "      <td>712.000000</td>\n",
       "      <td>712.000000</td>\n",
       "      <td>712.000000</td>\n",
       "      <td>712.000000</td>\n",
       "      <td>712.000000</td>\n",
       "    </tr>\n",
       "    <tr>\n",
       "      <th>mean</th>\n",
       "      <td>0.404494</td>\n",
       "      <td>2.240169</td>\n",
       "      <td>29.642093</td>\n",
       "      <td>34.567251</td>\n",
       "      <td>80.000000</td>\n",
       "      <td>0.363764</td>\n",
       "    </tr>\n",
       "    <tr>\n",
       "      <th>std</th>\n",
       "      <td>0.491139</td>\n",
       "      <td>0.836854</td>\n",
       "      <td>14.492933</td>\n",
       "      <td>52.938648</td>\n",
       "      <td>6.160534</td>\n",
       "      <td>0.481420</td>\n",
       "    </tr>\n",
       "    <tr>\n",
       "      <th>min</th>\n",
       "      <td>0.000000</td>\n",
       "      <td>1.000000</td>\n",
       "      <td>0.420000</td>\n",
       "      <td>0.000000</td>\n",
       "      <td>67.000000</td>\n",
       "      <td>0.000000</td>\n",
       "    </tr>\n",
       "    <tr>\n",
       "      <th>25%</th>\n",
       "      <td>0.000000</td>\n",
       "      <td>1.000000</td>\n",
       "      <td>20.000000</td>\n",
       "      <td>8.050000</td>\n",
       "      <td>83.000000</td>\n",
       "      <td>0.000000</td>\n",
       "    </tr>\n",
       "    <tr>\n",
       "      <th>50%</th>\n",
       "      <td>0.000000</td>\n",
       "      <td>2.000000</td>\n",
       "      <td>28.000000</td>\n",
       "      <td>15.645850</td>\n",
       "      <td>83.000000</td>\n",
       "      <td>0.000000</td>\n",
       "    </tr>\n",
       "    <tr>\n",
       "      <th>75%</th>\n",
       "      <td>1.000000</td>\n",
       "      <td>3.000000</td>\n",
       "      <td>38.000000</td>\n",
       "      <td>33.000000</td>\n",
       "      <td>83.000000</td>\n",
       "      <td>1.000000</td>\n",
       "    </tr>\n",
       "    <tr>\n",
       "      <th>max</th>\n",
       "      <td>1.000000</td>\n",
       "      <td>3.000000</td>\n",
       "      <td>80.000000</td>\n",
       "      <td>512.329200</td>\n",
       "      <td>83.000000</td>\n",
       "      <td>1.000000</td>\n",
       "    </tr>\n",
       "  </tbody>\n",
       "</table>\n",
       "</div>"
      ],
      "text/plain": [
       "         Survived      Pclass         Age        Fare    Embarked      Female\n",
       "count  712.000000  712.000000  712.000000  712.000000  712.000000  712.000000\n",
       "mean     0.404494    2.240169   29.642093   34.567251   80.000000    0.363764\n",
       "std      0.491139    0.836854   14.492933   52.938648    6.160534    0.481420\n",
       "min      0.000000    1.000000    0.420000    0.000000   67.000000    0.000000\n",
       "25%      0.000000    1.000000   20.000000    8.050000   83.000000    0.000000\n",
       "50%      0.000000    2.000000   28.000000   15.645850   83.000000    0.000000\n",
       "75%      1.000000    3.000000   38.000000   33.000000   83.000000    1.000000\n",
       "max      1.000000    3.000000   80.000000  512.329200   83.000000    1.000000"
      ]
     },
     "execution_count": 7,
     "metadata": {},
     "output_type": "execute_result"
    }
   ],
   "source": [
    "c_train.describe()"
   ]
  },
  {
   "cell_type": "markdown",
   "metadata": {},
   "source": [
    "# DATA EXPLORATION"
   ]
  },
  {
   "cell_type": "markdown",
   "metadata": {},
   "source": [
    "#### Pour chacune des variables suivantes, créer un ou plusieurs diagrammes qui la résume au mieux."
   ]
  },
  {
   "cell_type": "code",
   "execution_count": 8,
   "metadata": {
    "ExecuteTime": {
     "end_time": "2020-04-08T12:10:47.231349Z",
     "start_time": "2020-04-08T12:10:36.691048Z"
    }
   },
   "outputs": [
    {
     "data": {
      "text/plain": [
       "<seaborn.axisgrid.PairGrid at 0x7f12f8af3c90>"
      ]
     },
     "execution_count": 8,
     "metadata": {},
     "output_type": "execute_result"
    },
    {
     "data": {
      "image/png": "[encoded data removed]",
      "text/plain": [
       "<Figure size 1080x1080 with 42 Axes>"
      ]
     },
     "metadata": {
      "needs_background": "light"
     },
     "output_type": "display_data"
    }
   ],
   "source": [
    "%matplotlib inline\n",
    "# Etude des liens entre deux colonnes et la répartion des valeurs dans une colonne\n",
    "sns.pairplot(c_train, palette=\"husl\") # hue=\"species\" NON ACCEPTE"
   ]
  },
  {
   "cell_type": "code",
   "execution_count": 9,
   "metadata": {
    "ExecuteTime": {
     "end_time": "2020-04-08T07:52:44.918606Z",
     "start_time": "2020-04-08T07:52:44.670749Z"
    }
   },
   "outputs": [
    {
     "data": {
      "text/plain": [
       "\"\\nPour le(s)'entrée(s) C, les personnes le la première classe sont les plus concernées\\nLa troisième classe se situe sur toutes les entrées, majoritaire sur les entrées S et omniprésente sur les entrées Q.\\n\""
      ]
     },
     "execution_count": 9,
     "metadata": {},
     "output_type": "execute_result"
    },
    {
     "data": {
      "image/png": "[encoded data removed]",
      "text/plain": [
       "<Figure size 432x288 with 1 Axes>"
      ]
     },
     "metadata": {
      "needs_background": "light"
     },
     "output_type": "display_data"
    }
   ],
   "source": [
    "%matplotlib inline\n",
    "# Répartion des différentes classes par entrées. CAHNGER NOMS ABSCISSES\n",
    "pd.crosstab(c_train['Embarked'], c_train['Pclass']).plot.bar()\n",
    "#c_train = c_train.drop('Embarked',axis=1)\n",
    "'''\n",
    "Pour le(s)'entrée(s) C, les personnes le la première classe sont les plus concernées\n",
    "La troisième classe se situe sur toutes les entrées, majoritaire sur les entrées S et omniprésente sur les entrées Q.\n",
    "'''"
   ]
  },
  {
   "cell_type": "code",
   "execution_count": 10,
   "metadata": {
    "ExecuteTime": {
     "end_time": "2020-04-08T07:52:45.202444Z",
     "start_time": "2020-04-08T07:52:44.920606Z"
    }
   },
   "outputs": [
    {
     "data": {
      "text/plain": [
       "'\\nLes tarifs du voyage sont majoritairements tournés entre 0 et 100.\\n(50% ont un coût situé entre 8 et 33, cf c_train.describe())\\n'"
      ]
     },
     "execution_count": 10,
     "metadata": {},
     "output_type": "execute_result"
    },
    {
     "data": {
      "image/png": "[encoded data removed]",
      "text/plain": [
       "<Figure size 432x288 with 1 Axes>"
      ]
     },
     "metadata": {
      "needs_background": "light"
     },
     "output_type": "display_data"
    }
   ],
   "source": [
    "%matplotlib inline\n",
    "# Les tarifs du voyage (nombre de persones par tarifs non pris en compte)\n",
    "sns.distplot(c_train['Fare'])\n",
    "'''\n",
    "Les tarifs du voyage sont majoritairements tournés entre 0 et 100.\n",
    "(50% ont un coût situé entre 8 et 33, cf c_train.describe())\n",
    "'''"
   ]
  },
  {
   "cell_type": "code",
   "execution_count": 11,
   "metadata": {
    "ExecuteTime": {
     "end_time": "2020-04-08T07:52:46.927449Z",
     "start_time": "2020-04-08T07:52:45.205443Z"
    }
   },
   "outputs": [
    {
     "data": {
      "text/plain": [
       "'\\nLa majorité des femmes ont entre 15 et 40 ans.\\nIl est etonnant que les femmes ayant moins de 10 ans soient sur un tarif plus élévé que la moyenne des tarifs pour les femmes agées entre 15 et 45 ans\\n'"
      ]
     },
     "execution_count": 11,
     "metadata": {},
     "output_type": "execute_result"
    },
    {
     "data": {
      "image/png": "[encoded data removed]",
      "text/plain": [
       "<Figure size 432x432 with 3 Axes>"
      ]
     },
     "metadata": {
      "needs_background": "light"
     },
     "output_type": "display_data"
    }
   ],
   "source": [
    "%matplotlib inline\n",
    "# répartions entre les tarifs et les âges\n",
    "sns.jointplot('Age','Fare', data=c_train, kind='kde')\n",
    "'''\n",
    "La majorité des femmes ont entre 15 et 40 ans.\n",
    "Il est etonnant que les femmes ayant moins de 10 ans soient sur un tarif plus élévé que la moyenne des tarifs pour les femmes agées entre 15 et 45 ans\n",
    "'''"
   ]
  },
  {
   "cell_type": "code",
   "execution_count": 12,
   "metadata": {
    "ExecuteTime": {
     "end_time": "2020-04-08T07:52:46.934446Z",
     "start_time": "2020-04-08T07:52:46.929448Z"
    }
   },
   "outputs": [],
   "source": [
    "%matplotlib inline\n",
    "# Répartion des personnes par classes et age (representation 1/2)\n",
    "#sns.carplot(x='Pclass',y='Age', data=c_train, hue='Female')"
   ]
  },
  {
   "cell_type": "code",
   "execution_count": 13,
   "metadata": {
    "ExecuteTime": {
     "end_time": "2020-04-08T07:52:47.209289Z",
     "start_time": "2020-04-08T07:52:46.936443Z"
    }
   },
   "outputs": [
    {
     "data": {
      "text/plain": [
       "\"\\nOn constate que plus l'age est important, plus grandes sont les chances d'être dans une classe supérieure.\\nUn homme a trés lègèrement plus de chances de se situé sur une classe supérieure qu'une femme.\\n\""
      ]
     },
     "execution_count": 13,
     "metadata": {},
     "output_type": "execute_result"
    },
    {
     "data": {
      "image/png": "[encoded data removed]",
      "text/plain": [
       "<Figure size 432x288 with 1 Axes>"
      ]
     },
     "metadata": {
      "needs_background": "light"
     },
     "output_type": "display_data"
    }
   ],
   "source": [
    "%matplotlib inline\n",
    "# Répartion des personnes par classes et age (representation 2/2)\n",
    "sns.boxplot(x='Pclass',y='Age', data=c_train, hue='Female')\n",
    "'''\n",
    "On constate que plus l'age est important, plus grandes sont les chances d'être dans une classe supérieure.\n",
    "Un homme a trés lègèrement plus de chances de se situé sur une classe supérieure qu'une femme.\n",
    "'''"
   ]
  },
  {
   "cell_type": "code",
   "execution_count": 14,
   "metadata": {
    "ExecuteTime": {
     "end_time": "2020-04-08T09:26:51.912167Z",
     "start_time": "2020-04-08T09:26:51.463136Z"
    }
   },
   "outputs": [
    {
     "data": {
      "text/plain": [
       "\"\\nOn contate qu'il y a plus de personnes autour de 20-35 ans dans le Titanic. Ce qui est parfaitement valide.\\nCependant, on trouve moins d'enfants autour de 10 ans que d'enfants issus de la naissance.\\n\""
      ]
     },
     "execution_count": 14,
     "metadata": {},
     "output_type": "execute_result"
    },
    {
     "data": {
      "image/png": "[encoded data removed]",
      "text/plain": [
       "<Figure size 432x288 with 1 Axes>"
      ]
     },
     "metadata": {
      "needs_background": "light"
     },
     "output_type": "display_data"
    }
   ],
   "source": [
    "%matplotlib inline\n",
    "# Nombre de personnes par age\n",
    "plt.xlabel('Age')\n",
    "plt.ylabel('Quantité')\n",
    "rien = plt.hist(c_train['Age'].ravel(), bins=80) \n",
    "'''\n",
    "On contate qu'il y a plus de personnes autour de 20-35 ans dans le Titanic. Ce qui est parfaitement valide.\n",
    "Cependant, on trouve moins d'enfants autour de 10 ans que d'enfants issus de la naissance.\n",
    "'''"
   ]
  },
  {
   "cell_type": "code",
   "execution_count": 15,
   "metadata": {
    "ExecuteTime": {
     "end_time": "2020-04-08T09:27:12.996973Z",
     "start_time": "2020-04-08T09:27:12.373330Z"
    }
   },
   "outputs": [
    {
     "data": {
      "text/plain": [
       "\"\\nOn retrouve des constatations similaires à d'autres représentation montrants des liens entre la colonne Age et la colonne Pclass, \\nelle-même en lien avec la colonne Fare.\\n\""
      ]
     },
     "execution_count": 15,
     "metadata": {},
     "output_type": "execute_result"
    },
    {
     "data": {
      "image/png": "[encoded data removed]",
      "text/plain": [
       "<Figure size 432x288 with 1 Axes>"
      ]
     },
     "metadata": {
      "needs_background": "light"
     },
     "output_type": "display_data"
    }
   ],
   "source": [
    "%matplotlib inline\n",
    "# Répartition des classes suivant le coût des tickets et l'âge des personnes\n",
    "f = lambda z: int(z==1)*'r' + int(z==2)*'y' + int(z==3)*'b'\n",
    "X, Y, Z = c_train['Age'], c_train['Fare'], c_train['Pclass']\n",
    "plt.scatter(X, Y, alpha=1, s=5, facecolor=list(map(f,Z)))\n",
    "plt.xlabel('Age')\n",
    "plt.ylabel('Fare')\n",
    "'''\n",
    "On retrouve des constatations similaires à d'autres représentation montrants des liens entre la colonne Age et la colonne Pclass, \n",
    "elle-même en lien avec la colonne Fare.\n",
    "'''"
   ]
  },
  {
   "cell_type": "code",
   "execution_count": 16,
   "metadata": {
    "ExecuteTime": {
     "end_time": "2020-04-08T07:52:49.449552Z",
     "start_time": "2020-04-08T07:52:47.703169Z"
    }
   },
   "outputs": [
    {
     "name": "stderr",
     "output_type": "stream",
     "text": [
      "/home/fakhredine/.local/lib/python3.7/site-packages/seaborn/axisgrid.py:243: UserWarning: The `size` parameter has been renamed to `height`; please update your code.\n",
      "  warnings.warn(msg, UserWarning)\n"
     ]
    },
    {
     "data": {
      "text/plain": [
       "'\\nLes lignes correspondent aux classes et les colonnes à la survie.\\nMajoritairement, les personnes de la classe 3 sont décédées.\\nPour la première classe, ils ont eus de la chance\\n'"
      ]
     },
     "execution_count": 16,
     "metadata": {},
     "output_type": "execute_result"
    },
    {
     "data": {
      "image/png": "[encoded data removed]",
      "text/plain": [
       "<Figure size 368x540 with 6 Axes>"
      ]
     },
     "metadata": {
      "needs_background": "light"
     },
     "output_type": "display_data"
    }
   ],
   "source": [
    "%matplotlib inline\n",
    "# \n",
    "grid = sns.FacetGrid(c_train, col='Survived', row='Pclass', size=2.5, aspect=1)\n",
    "grid.map(plt.hist, 'Age', alpha=.5, bins=c_train.shape[1])\n",
    "grid.add_legend()\n",
    "'''\n",
    "Les lignes correspondent aux classes et les colonnes à la survie.\n",
    "Majoritairement, les personnes de la classe 3 sont décédées.\n",
    "Pour la première classe, ils ont eus de la chance\n",
    "'''"
   ]
  },
  {
   "cell_type": "code",
   "execution_count": 17,
   "metadata": {
    "ExecuteTime": {
     "end_time": "2020-04-08T07:52:49.946561Z",
     "start_time": "2020-04-08T07:52:49.451552Z"
    }
   },
   "outputs": [
    {
     "data": {
      "text/plain": [
       "\"\\nLes morts sont plus importanes chez les hommes que chez les femmes.\\nIl y a moins de survivants que de morts. En admettant qu'il y a autant de femmes que d'hommes sur le bateau, les femmes ont plus de chances de survivre\\n\""
      ]
     },
     "execution_count": 17,
     "metadata": {},
     "output_type": "execute_result"
    },
    {
     "data": {
      "image/png": "[encoded data removed]",
      "text/plain": [
       "<Figure size 481.125x216 with 2 Axes>"
      ]
     },
     "metadata": {
      "needs_background": "light"
     },
     "output_type": "display_data"
    }
   ],
   "source": [
    "%matplotlib inline\n",
    "# survie selon l'age, le prix et le sexe\n",
    "g = sns.FacetGrid(c_train, hue=\"Survived\", col=\"Female\", margin_titles=True,\n",
    "                palette=\"Set1\",hue_kws=dict(marker=[\"^\", \"v\"]))\n",
    "g.map(plt.scatter, \"Fare\", \"Age\",edgecolor=\"w\").add_legend()\n",
    "plt.subplots_adjust(top=0.8)\n",
    "g.fig.suptitle('Survival by Gender , Age and Fare');\n",
    "'''\n",
    "Les morts sont plus importanes chez les hommes que chez les femmes.\n",
    "Il y a moins de survivants que de morts. En admettant qu'il y a autant de femmes que d'hommes sur le bateau, les femmes ont plus de chances de survivre\n",
    "'''"
   ]
  },
  {
   "cell_type": "code",
   "execution_count": null,
   "metadata": {
    "ExecuteTime": {
     "end_time": "2020-04-07T06:40:10.591310Z",
     "start_time": "2020-04-07T06:40:06.140800Z"
    }
   },
   "outputs": [],
   "source": []
  },
  {
   "cell_type": "markdown",
   "metadata": {},
   "source": [
    "Il y a moins de survivants que de morts.\n",
    "En admettant qu'il y a autant de femmes que d'hommes sur le bateau, les femmes ont plus de chances de survivre"
   ]
  },
  {
   "cell_type": "code",
   "execution_count": 18,
   "metadata": {
    "ExecuteTime": {
     "end_time": "2020-04-08T09:28:03.198799Z",
     "start_time": "2020-04-08T09:28:03.187805Z"
    }
   },
   "outputs": [
    {
     "name": "stdout",
     "output_type": "stream",
     "text": [
      "Not Survived : 288\n",
      "Survived : 424\n"
     ]
    },
    {
     "data": {
      "text/plain": [
       "'\\nSur les données étudiées, on relève 288 morts et 424 survivants\\n'"
      ]
     },
     "execution_count": 18,
     "metadata": {},
     "output_type": "execute_result"
    }
   ],
   "source": [
    "# Nombre de suivivants ou non au naufrage\n",
    "print(\"Not Survived :\" ,len(c_train[c_train['Survived'] == 1]))\n",
    "print(\"Survived :\",len(c_train[c_train['Survived'] == 0]))\n",
    "'''\n",
    "Sur les données étudiées, on relève 288 morts et 424 survivants\n",
    "'''"
   ]
  },
  {
   "cell_type": "code",
   "execution_count": 19,
   "metadata": {
    "ExecuteTime": {
     "end_time": "2020-04-08T09:28:20.947514Z",
     "start_time": "2020-04-08T09:28:20.247914Z"
    }
   },
   "outputs": [
    {
     "data": {
      "image/png": "[encoded data removed]",
      "text/plain": [
       "<Figure size 432x288 with 1 Axes>"
      ]
     },
     "metadata": {
      "needs_background": "light"
     },
     "output_type": "display_data"
    }
   ],
   "source": [
    "%matplotlib inline\n",
    "# Répartion des personnes mortes ou survécues suivant leurs âges. A METTRE EN DESSOUS DE L AUTRE\n",
    "survived = c_train[c_train[\"Survived\"] == 1]\n",
    "died = c_train[c_train[\"Survived\"] == 0]\n",
    "survived[\"Age\"].plot.hist(alpha=0.5,color='red',bins=50)\n",
    "died[\"Age\"].plot.hist(alpha=0.5,color='blue',bins=50)\n",
    "plt.legend(['Survived','Died'])\n",
    "plt.show()"
   ]
  },
  {
   "cell_type": "code",
   "execution_count": 20,
   "metadata": {
    "ExecuteTime": {
     "end_time": "2020-04-08T09:28:56.214829Z",
     "start_time": "2020-04-08T09:28:55.974948Z"
    }
   },
   "outputs": [
    {
     "data": {
      "text/plain": [
       "\"\\nIl n'y a de vue aucun lien entre le sexe et Pclass.\\nLes femmes ont plus de chances qu'un homme de survivre face au défi conséquent de la situation étudiée.\\nLes hommes ont autour de 4 ans de plus en moyenne que les femmes.\\n\""
      ]
     },
     "execution_count": 20,
     "metadata": {},
     "output_type": "execute_result"
    },
    {
     "data": {
      "image/png": "[encoded data removed]",
      "text/plain": [
       "<Figure size 432x288 with 1 Axes>"
      ]
     },
     "metadata": {
      "needs_background": "light"
     },
     "output_type": "display_data"
    }
   ],
   "source": [
    "%matplotlib inline\n",
    "# Catégories associées aux genres\n",
    "c_train[['Female','Pclass','Survived','Age']].groupby(['Female']).mean().plot.bar()\n",
    "'''\n",
    "Il n'y a de vue aucun lien entre le sexe et Pclass.\n",
    "Les femmes ont plus de chances qu'un homme de survivre face au défi conséquent de la situation étudiée.\n",
    "Les hommes ont autour de 4 ans de plus en moyenne que les femmes.\n",
    "'''"
   ]
  },
  {
   "cell_type": "code",
   "execution_count": 21,
   "metadata": {
    "ExecuteTime": {
     "end_time": "2020-04-08T09:29:14.681337Z",
     "start_time": "2020-04-08T09:29:14.415285Z"
    }
   },
   "outputs": [
    {
     "data": {
      "text/plain": [
       "'\\nDes liens déjà rencontrés existent entre la classe et, Survived ou Age\\n'"
      ]
     },
     "execution_count": 21,
     "metadata": {},
     "output_type": "execute_result"
    },
    {
     "data": {
      "image/png": "[encoded data removed]",
      "text/plain": [
       "<Figure size 432x288 with 1 Axes>"
      ]
     },
     "metadata": {
      "needs_background": "light"
     },
     "output_type": "display_data"
    }
   ],
   "source": [
    "%matplotlib inline\n",
    "# Caractéristiques des personnes dans les différentes classes\n",
    "c_train[['Female','Pclass','Survived','Age']].groupby(['Pclass']).mean().plot.bar()\n",
    "'''\n",
    "Des liens déjà rencontrés existent entre la classe et, Survived ou Age\n",
    "'''"
   ]
  },
  {
   "cell_type": "code",
   "execution_count": 22,
   "metadata": {
    "ExecuteTime": {
     "end_time": "2020-04-08T09:30:36.693656Z",
     "start_time": "2020-04-08T09:30:36.668670Z"
    }
   },
   "outputs": [
    {
     "name": "stdout",
     "output_type": "stream",
     "text": [
      "3    0.690265\n",
      "2    0.203540\n",
      "1    0.106195\n",
      "Name: Pclass, dtype: float64\n",
      "3    0.462437\n",
      "1    0.287145\n",
      "2    0.250417\n",
      "Name: Pclass, dtype: float64\n"
     ]
    },
    {
     "data": {
      "text/plain": [
       "'\\n70% des enfants sont situés dans la troisième classe\\n'"
      ]
     },
     "execution_count": 22,
     "metadata": {},
     "output_type": "execute_result"
    }
   ],
   "source": [
    "%matplotlib inline\n",
    "# Positionnement des enfants dans les différentes classes\n",
    "print(c_train[c_train['Age']<18]['Pclass'].value_counts()/len(c_train[c_train['Age']<18]))\n",
    "print(c_train[c_train['Age']>=18]['Pclass'].value_counts()/len(c_train[c_train['Age']>=18]))\n",
    "'''\n",
    "70% des enfants sont situés dans la troisième classe\n",
    "'''"
   ]
  },
  {
   "cell_type": "code",
   "execution_count": null,
   "metadata": {},
   "outputs": [],
   "source": []
  },
  {
   "cell_type": "code",
   "execution_count": null,
   "metadata": {
    "ExecuteTime": {
     "end_time": "2020-04-06T11:11:58.447556Z",
     "start_time": "2020-04-06T11:11:58.400579Z"
    }
   },
   "outputs": [],
   "source": []
  },
  {
   "cell_type": "markdown",
   "metadata": {},
   "source": [
    "# STATISTIC TEST"
   ]
  },
  {
   "cell_type": "code",
   "execution_count": 23,
   "metadata": {
    "ExecuteTime": {
     "end_time": "2020-04-08T09:25:35.110166Z",
     "start_time": "2020-04-08T09:25:35.106168Z"
    }
   },
   "outputs": [],
   "source": [
    "# NB: est dépendant = dépendance = a une influence = il existe une correlation (non proche de 0)"
   ]
  },
  {
   "cell_type": "markdown",
   "metadata": {},
   "source": [
    "## Les femmes et les enfants d'abord."
   ]
  },
  {
   "cell_type": "markdown",
   "metadata": {},
   "source": [
    "#### Test d'hypothèse pour savoir si oui ou non, les enfants ont été privilégiés lors du naufrage."
   ]
  },
  {
   "cell_type": "code",
   "execution_count": 24,
   "metadata": {
    "ExecuteTime": {
     "end_time": "2020-04-08T09:31:08.855936Z",
     "start_time": "2020-04-08T09:31:07.686822Z"
    },
    "code_folding": []
   },
   "outputs": [
    {
     "name": "stdout",
     "output_type": "stream",
     "text": [
      "H0 est rejetée, le fait d'être un enfants ou un adulte a une influence significative sur les chances de mourrir.\n"
     ]
    }
   ],
   "source": [
    "import scipy.stats as stats\n",
    "'''\n",
    "Test Z: \n",
    "H0: la probabilité de mourrir est identique entre les enfants et les adultes.\n",
    "'''\n",
    "stat1 = pd.crosstab(np.array([int(i<18)*\"Enfant\" + int(i>=18)*\"Adulte\" for i in c_train['Age']]), c_train['Survived'])\n",
    "#print(\"Tableau croisé sur la survie ou non des enfants ou adultes:\\n\", stat1)\n",
    "qtt = stat1.sum(axis=1)\n",
    "#print(\"Nombre d'adultes et d'enfants: \\n: \",qtt)\n",
    "stat1 = stat1[1]/stat1.sum(axis = 1)\n",
    "#print(\"Probabilité pour les personnes de mourrir: \\n\", stat1)\n",
    "\n",
    "# Le nombre d'adultes mort suit la loi de bernouilli(0.379, 599) \n",
    "# pouvant être approximée par la loi normale(0.379*599, sqrt(0.379*0.621*599))\n",
    "# print(f\"n_adultes = {qtt[0]}, p_a_meurt = {stat1[0]}, n_enfants = {qtt[1]}, p_e_meurt = {stat1[1]}\")\n",
    "mu0 = qtt[0]*stat1[0]; sig0 = np.sqrt(qtt[0]*stat1[0]*(1-stat1[0]))\n",
    "mu1 = qtt[1]*stat1[1]; sig1 = np.sqrt(qtt[1]*stat1[1]*(1-stat1[1]))\n",
    "n = 1000\n",
    "alpha = .05\n",
    "\n",
    "pval = 0\n",
    "for i in range (1000) :\n",
    "    law0 = np.random.normal(loc=mu0, scale=sig0, size=n)\n",
    "    law1 = np.random.normal(loc=mu1, scale=sig1, size=n)\n",
    "    pval += stats.ks_2samp(law0, law1)[1]  # stat.ttest_ind(s1,s2, equal_var=False)\n",
    "      \n",
    "pval = pval/1000 \n",
    "if pval <= alpha :\n",
    "    print(\"H0 est rejetée, le fait d'être un enfants ou un adulte a une influence significative sur les chances de mourrir.\")\n",
    "else :\n",
    "    print(\"La probabilité de mourrir est identique entre les enfants et les adultes.\")"
   ]
  },
  {
   "cell_type": "markdown",
   "metadata": {},
   "source": [
    "#### Test d'hypothèse pour savoir si oui ou non, les femmes ont été privilégiées lors du naufrage."
   ]
  },
  {
   "cell_type": "markdown",
   "metadata": {},
   "source": [
    "##### Avec Khi-deux"
   ]
  },
  {
   "cell_type": "code",
   "execution_count": 25,
   "metadata": {
    "ExecuteTime": {
     "end_time": "2020-04-08T08:52:17.328548Z",
     "start_time": "2020-04-08T08:52:17.308561Z"
    }
   },
   "outputs": [
    {
     "name": "stdout",
     "output_type": "stream",
     "text": [
      "H0 est rejetée, le sexe d'un passager à une influence sur la survie au naufrage.\n"
     ]
    }
   ],
   "source": [
    "alpha = 0.05\n",
    "col_etud = pd.crosstab(c_train['Female'],c_train['Survived'])\n",
    "pval = stats.chi2_contingency(col_etud)[1]\n",
    "if pval <= alpha:\n",
    "    print(\"H0 est rejetée, le sexe d'un passager à une influence sur la survie au naufrage.\")\n",
    "else:\n",
    "    print(\"Le sexe d'un passager n'a pas d'influence sur la survie au naufrage.\")\n",
    "# INFOS SUR LE TEST: https://fr.wikipedia.org/wiki/Test_du_%CF%87%C2%B2#Test_du_%CF%872_d%27ind%C3%A9pendance"
   ]
  },
  {
   "cell_type": "markdown",
   "metadata": {},
   "source": [
    "##### Avec Fischer"
   ]
  },
  {
   "cell_type": "code",
   "execution_count": 26,
   "metadata": {
    "ExecuteTime": {
     "end_time": "2020-04-08T09:31:39.297005Z",
     "start_time": "2020-04-08T09:31:39.254028Z"
    }
   },
   "outputs": [
    {
     "name": "stdout",
     "output_type": "stream",
     "text": [
      "H0 est rejetée, le sexe d'un passager à une influence sur la survie au naufrage.\n"
     ]
    }
   ],
   "source": [
    "alpha=0.05\n",
    "col_etud2 = pd.crosstab(c_train['Female'],c_train['Survived'])\n",
    "pval = stats.fisher_exact(col_etud2)[1]\n",
    "if pval <= alpha:\n",
    "    print(\"H0 est rejetée, le sexe d'un passager à une influence sur la survie au naufrage.\")\n",
    "else:\n",
    "    print(\"Le sexe d'un passager n'a pas d'influence sur la survie au naufrage.\")"
   ]
  },
  {
   "cell_type": "markdown",
   "metadata": {},
   "source": [
    "## L'influence du prix du billet sur le survie des passagers"
   ]
  },
  {
   "cell_type": "markdown",
   "metadata": {},
   "source": [
    "#### Test d'hypothèse pour savoir si oui ou non, le prix du billet a une influence sur la survie d'un passager."
   ]
  },
  {
   "cell_type": "markdown",
   "metadata": {},
   "source": [
    "##### Avec Khi-deux"
   ]
  },
  {
   "cell_type": "code",
   "execution_count": 27,
   "metadata": {},
   "outputs": [
    {
     "name": "stdout",
     "output_type": "stream",
     "text": [
      "H0 est rejetée, le prix du billet d'un passager à une influence sur la survie au naufrage.\n"
     ]
    }
   ],
   "source": [
    "alpha = 0.05\n",
    "col_etud = pd.crosstab(c_train['Fare'],c_train['Survived'])\n",
    "pval = stats.chi2_contingency(col_etud)[1]\n",
    "if pval <= alpha:\n",
    "    print(\"H0 est rejetée, le prix du billet d'un passager à une influence sur la survie au naufrage.\")\n",
    "else:\n",
    "    print(\"Le sexe d'un passager n'a pas d'influence sur la survie au naufrage.\")\n",
    "# INFOS SUR LE TEST: https://fr.wikipedia.org/wiki/Test_du_%CF%87%C2%B2#Test_du_%CF%872_d%27ind%C3%A9pendance"
   ]
  },
  {
   "cell_type": "markdown",
   "metadata": {},
   "source": [
    "##### Avec Fisher"
   ]
  },
  {
   "cell_type": "code",
   "execution_count": 28,
   "metadata": {},
   "outputs": [
    {
     "data": {
      "text/plain": [
       "count    219.000000\n",
       "mean       3.251142\n",
       "std        4.835452\n",
       "min        1.000000\n",
       "25%        1.000000\n",
       "50%        2.000000\n",
       "75%        3.000000\n",
       "max       41.000000\n",
       "Name: Fare, dtype: float64"
      ]
     },
     "execution_count": 28,
     "metadata": {},
     "output_type": "execute_result"
    }
   ],
   "source": [
    "c_train[\"Fare\"].value_counts().describe()"
   ]
  },
  {
   "cell_type": "code",
   "execution_count": 29,
   "metadata": {
    "ExecuteTime": {
     "end_time": "2020-04-08T13:36:44.824112Z",
     "start_time": "2020-04-08T13:36:44.820130Z"
    }
   },
   "outputs": [],
   "source": [
    "# # Fakhredine \n",
    "# alpha=0.05\n",
    "# col_etud2 = pd.crosstab(c_train['Fare'],c_train['Survived'])\n",
    "# col_etud2\n",
    "# pval = stats.fisher_exact(col_etud2)[1]\n",
    "# if pval <= alpha:\n",
    "#     print(\"H0 est rejetée, le prix du billet d'un passager à une influence sur la survie au naufrage.\")\n",
    "# else:\n",
    "#     print(\"Le prix du billet d'un passager n'a pas d'influence sur la survie au naufrage.\")"
   ]
  },
  {
   "cell_type": "markdown",
   "metadata": {},
   "source": [
    "# CREATING MODELS "
   ]
  },
  {
   "cell_type": "code",
   "execution_count": 30,
   "metadata": {
    "ExecuteTime": {
     "end_time": "2020-04-08T09:51:01.037661Z",
     "start_time": "2020-04-08T09:51:01.032661Z"
    }
   },
   "outputs": [],
   "source": [
    "from sklearn.model_selection import train_test_split\n",
    "\n",
    "X = c_train.drop('Survived',axis=1)\n",
    "y = c_train['Survived']\n",
    "\n",
    "X_train, X_test, y_train, y_test = train_test_split(X, y, test_size = 0.2, random_state=64)"
   ]
  },
  {
   "cell_type": "code",
   "execution_count": 31,
   "metadata": {},
   "outputs": [],
   "source": [
    "# __OLD__\n",
    "# Création des dataFrames utiles pour prédire Survived\n",
    "# X_train = c_train.drop('Survived',axis=1)\n",
    "# y_train = c_train['Survived']\n",
    "# X_test = c_test"
   ]
  },
  {
   "cell_type": "markdown",
   "metadata": {},
   "source": [
    "### LINEAR REGRESSION MODELS "
   ]
  },
  {
   "cell_type": "markdown",
   "metadata": {},
   "source": [
    "#### 1. Avec sklearn"
   ]
  },
  {
   "cell_type": "code",
   "execution_count": 32,
   "metadata": {
    "ExecuteTime": {
     "end_time": "2020-04-08T12:35:50.160651Z",
     "start_time": "2020-04-08T12:35:50.150655Z"
    }
   },
   "outputs": [
    {
     "name": "stdout",
     "output_type": "stream",
     "text": [
      "y = -0.19399855460636833 Pclass + -0.00539117416032446 Age + -4.835201437496887e-05 Fare + -0.0049174671874590735 Embarked + 0.47497664469183315 Female + 1.2211788706369489\n"
     ]
    }
   ],
   "source": [
    "from sklearn import linear_model\n",
    "# X = X_train\n",
    "# y = y_train\n",
    "# On fit le modele\n",
    "model = linear_model.LinearRegression()\n",
    "results = model.fit(X, y)\n",
    "# print(results.intercept_, results.coef_)\n",
    "\n",
    "print(\"y = \", end='')\n",
    "for i in [f\"{results.coef_[i]} {X.columns[i]} + \" for i in range(len(X.columns))]:\n",
    "    print(i,end=\"\") \n",
    "print(results.intercept_)\n",
    "# INTERESSANT: http://www.xavierdupre.fr/app/ensae_teaching_cs/helpsphinx/notebooks/td2a_eco_regressions_lineaires.html"
   ]
  },
  {
   "cell_type": "markdown",
   "metadata": {},
   "source": [
    "#### 2. Avec statsmodels.api"
   ]
  },
  {
   "cell_type": "code",
   "execution_count": 33,
   "metadata": {
    "ExecuteTime": {
     "end_time": "2020-04-08T13:37:39.653383Z",
     "start_time": "2020-04-08T13:37:39.632395Z"
    },
    "scrolled": true
   },
   "outputs": [
    {
     "name": "stdout",
     "output_type": "stream",
     "text": [
      "                                 OLS Regression Results                                \n",
      "=======================================================================================\n",
      "Dep. Variable:               Survived   R-squared (uncentered):                   0.620\n",
      "Model:                            OLS   Adj. R-squared (uncentered):              0.617\n",
      "Method:                 Least Squares   F-statistic:                              230.6\n",
      "Date:                Thu, 09 Apr 2020   Prob (F-statistic):                   7.48e-146\n",
      "Time:                        08:43:29   Log-Likelihood:                         -343.67\n",
      "No. Observations:                 712   AIC:                                      697.3\n",
      "Df Residuals:                     707   BIC:                                      720.2\n",
      "Df Model:                           5                                                  \n",
      "Covariance Type:            nonrobust                                                  \n",
      "==============================================================================\n",
      "                 coef    std err          t      P>|t|      [0.025      0.975]\n",
      "------------------------------------------------------------------------------\n",
      "Pclass        -0.1661      0.023     -7.310      0.000      -0.211      -0.121\n",
      "Age           -0.0039      0.001     -3.600      0.000      -0.006      -0.002\n",
      "Fare           0.0007      0.000      2.038      0.042     2.4e-05       0.001\n",
      "Embarked       0.0085      0.001      8.849      0.000       0.007       0.010\n",
      "Female         0.4999      0.031     15.956      0.000       0.438       0.561\n",
      "==============================================================================\n",
      "Omnibus:                       24.859   Durbin-Watson:                   1.848\n",
      "Prob(Omnibus):                  0.000   Jarque-Bera (JB):               26.775\n",
      "Skew:                           0.475   Prob(JB):                     1.53e-06\n",
      "Kurtosis:                       3.041   Cond. No.                         202.\n",
      "==============================================================================\n",
      "\n",
      "Warnings:\n",
      "[1] Standard Errors assume that the covariance matrix of the errors is correctly specified.\n"
     ]
    }
   ],
   "source": [
    "import statsmodels.api as sm\n",
    "model = sm.OLS(y, X)\n",
    "results = model.fit()\n",
    "print(results.summary())"
   ]
  },
  {
   "cell_type": "markdown",
   "metadata": {},
   "source": [
    "### LOGISTICS MODELS "
   ]
  },
  {
   "cell_type": "markdown",
   "metadata": {
    "ExecuteTime": {
     "end_time": "2020-04-07T11:10:50.441046Z",
     "start_time": "2020-04-07T11:10:30.217Z"
    }
   },
   "source": [
    "#### Test 1: Avec une régression logistique"
   ]
  },
  {
   "cell_type": "code",
   "execution_count": 34,
   "metadata": {
    "ExecuteTime": {
     "end_time": "2020-04-08T13:00:05.131829Z",
     "start_time": "2020-04-08T13:00:03.609620Z"
    },
    "code_folding": [],
    "scrolled": false
   },
   "outputs": [
    {
     "name": "stdout",
     "output_type": "stream",
     "text": [
      "True: [0 0 0 0 1 0 0 0 1 1]\n",
      "Pred: [0. 1. 1. 1. 0. 0. 0. 1. 1. 1.]\n",
      "[[359  65]\n",
      " [ 81 207]]\n",
      "0.7949438202247191\n",
      "0.8538841391509435\n"
     ]
    },
    {
     "data": {
      "image/png": "[encoded data removed]",
      "text/plain": [
       "<Figure size 432x288 with 1 Axes>"
      ]
     },
     "metadata": {},
     "output_type": "display_data"
    },
    {
     "name": "stdout",
     "output_type": "stream",
     "text": [
      "Les meilleures valeurs à prendre pour le soeuil sont dans [0.43679775280898875, 0.4396067415730337]\n"
     ]
    }
   ],
   "source": [
    "%matplotlib inline\n",
    "sns.set_style('darkgrid', {'legend.frameon':True})\n",
    "\n",
    "# Création des dataFrames utiles pour prédire Survived\n",
    "# X = X_train.copy()\n",
    "# y = y_train.copy()\n",
    "\n",
    "# Entrainnement du modèle de regression logistique \n",
    "from sklearn.linear_model import LogisticRegression # OU LinearRegression\n",
    "logreg1 = LogisticRegression() \n",
    "logreg1.fit(X, y)\n",
    "\n",
    "# Etude des différences entre y_train et y_pred_prob\n",
    "y_pred_prob = logreg1.predict_proba(X)\n",
    "print('y_train:\\n', y.values[:10])\n",
    "print('y_pred_prob[:,1] :\\n',y_pred_prob[:,1].T[:10])\n",
    "\n",
    "# ROC curve associée à notre représentation\n",
    "from sklearn import metrics\n",
    "fpr, tpr, thresholds = metrics.roc_curve(y, y_pred_prob[:,1])\n",
    "plt.plot(fpr, tpr, [0,1],[0,1])\n",
    "plt.xlim([-0.05, 1.05]); plt.ylim([-0.05, 1.05])\n",
    "plt.title('ROC curve for Survived classifier')\n",
    "plt.xlabel('False Positive Rate (1 - Specificity)'); plt.ylabel('True Positive Rate (Sensitivity)')\n",
    "plt.grid(True)\n",
    "plt.show()\n",
    "\n",
    "# AUC score\n",
    "print(metrics.roc_auc_score(y, y_pred_prob[:,1]))\n",
    "# Use score method to get accuracy of model ()\n",
    "print(logreg1.score(X, y))\n",
    "\n",
    "# Etude de la valeur soeuil à prendre\n",
    "import ipywidgets as widgets\n",
    "from sklearn.preprocessing import binarize\n",
    "def tests(x):    \n",
    "    # predistions suivant la valeur soeuil prise\n",
    "    y_pred_class = binarize([y_pred_prob[:,1]], x).T\n",
    "    # print the first 25 true and predicted responses\n",
    "    print('True:', y_train.values.T[:10])\n",
    "    print('Pred:', y_pred_class.T[0,:10])\n",
    "    # confusion matrix\n",
    "    conf_matrix = metrics.confusion_matrix(y, y_pred_class)\n",
    "    print(conf_matrix)\n",
    "    # calculate accuracy\n",
    "    print(metrics.accuracy_score(y, y_pred_class))\n",
    "    print(metrics.roc_auc_score(y, y_pred_prob[:,1]))\n",
    "    \n",
    "widgets.interact(tests, x=widgets.FloatSlider(min=0, max=1, step=0.01, value=0.5))\n",
    "\n",
    "# Etude de la meilleur valeur soeuil à prendre\n",
    "def f(x):\n",
    "    # predict diabetes if the predicted probability is greater than x\n",
    "    y_pred_class = binarize([y_pred_prob[:,1]], x).T\n",
    "    # calculate accuracy \n",
    "    return metrics.accuracy_score(y, y_pred_class) \n",
    "\n",
    "list_x = [i/len(y_pred_prob[:,1]) for i in range(1,len(y_pred_prob[:,1]))]\n",
    "list_y = [f(i) for i in list_x]\n",
    "plt.plot(list_x, list_y)\n",
    "plt.show()\n",
    "plt.close()\n",
    "\n",
    "points = dict(zip(list_x, list_y))\n",
    "val_soeuil = {x  for x, y in points.items() if y == max(points.values())}\n",
    "print(f\"Les meilleures valeurs à prendre pour le soeuil sont dans [{min(val_soeuil)}, {max(val_soeuil)}]\")"
   ]
  },
  {
   "cell_type": "markdown",
   "metadata": {
    "ExecuteTime": {
     "end_time": "2020-04-07T11:10:50.444060Z",
     "start_time": "2020-04-07T11:10:30.223Z"
    }
   },
   "source": [
    "#### Test 2: Avec le KNN"
   ]
  },
  {
   "cell_type": "code",
   "execution_count": 35,
   "metadata": {
    "ExecuteTime": {
     "end_time": "2020-04-08T12:40:00.215188Z",
     "start_time": "2020-04-08T12:39:58.658884Z"
    }
   },
   "outputs": [
    {
     "name": "stdout",
     "output_type": "stream",
     "text": [
      "Le meilleur nombre de voisins est de  1\n",
      "Le score obtenu sur le test est de: 0.9831460674157303\n"
     ]
    },
    {
     "data": {
      "image/png": "[encoded data removed]",
      "text/plain": [
       "<Figure size 432x288 with 1 Axes>"
      ]
     },
     "metadata": {},
     "output_type": "display_data"
    }
   ],
   "source": [
    "%matplotlib inline\n",
    "sns.set_style('darkgrid', {'legend.frameon':True})\n",
    "\n",
    "# Création des dataFrames utiles pour prédire Survived\n",
    "# X = X_train.copy() \n",
    "# y = y_train.copy() \n",
    "\n",
    "score = []\n",
    "best_k = 1\n",
    "best_score = 0\n",
    "from sklearn.neighbors import KNeighborsClassifier\n",
    "for k in range(best_k, 30):\n",
    "    modelKNN = KNeighborsClassifier(n_neighbors=k)\n",
    "    modelKNN.fit(X, y)\n",
    "    score.append(modelKNN.score(X,y))\n",
    "    if best_score < modelKNN.score(X,y):\n",
    "        best_k = k\n",
    "        best_score = modelKNN.score(X,y) \n",
    "print('Le meilleur nombre de voisins est de ',best_k)\n",
    "plt.plot(score)\n",
    "\n",
    "# Application du meilleur modele sur le fichier train\n",
    "modelKNN = KNeighborsClassifier(n_neighbors=best_k)\n",
    "modelKNN.fit(X,y)\n",
    "print(\"Le score obtenu sur le test est de:\", modelKNN.score(X,y))"
   ]
  },
  {
   "cell_type": "markdown",
   "metadata": {
    "ExecuteTime": {
     "end_time": "2020-04-07T12:50:25.919198Z",
     "start_time": "2020-04-07T12:50:24.683275Z"
    }
   },
   "source": [
    "#### Test 3: Avec une régression logistique"
   ]
  },
  {
   "cell_type": "code",
   "execution_count": 37,
   "metadata": {
    "ExecuteTime": {
     "end_time": "2020-04-08T12:40:02.127514Z",
     "start_time": "2020-04-08T12:40:02.084539Z"
    }
   },
   "outputs": [
    {
     "name": "stdout",
     "output_type": "stream",
     "text": [
      "              precision    recall  f1-score   support\n",
      "\n",
      "           0       0.82      0.84      0.83       424\n",
      "           1       0.76      0.72      0.74       288\n",
      "\n",
      "    accuracy                           0.79       712\n",
      "   macro avg       0.79      0.78      0.78       712\n",
      "weighted avg       0.79      0.79      0.79       712\n",
      "\n",
      "0.7935393258426966\n",
      "[[358  66]\n",
      " [ 81 207]]\n"
     ]
    }
   ],
   "source": [
    "%matplotlib inline\n",
    "sns.set_style('darkgrid', {'legend.frameon':True})\n",
    "\n",
    "# Création des dataFrames utiles pour prédire Survived\n",
    "# X = X_train.copy()\n",
    "# y = y_train.copy()\n",
    "\n",
    "#Train the model\n",
    "from sklearn.linear_model import LogisticRegression\n",
    "modelLR = LogisticRegression(solver='lbfgs',multi_class='auto',penalty='none')\n",
    "modelLR.fit(X, y) #Training the model\n",
    "\n",
    "#Test the model\n",
    "y_pred = modelLR.predict(X)\n",
    "\n",
    "# evaluation du modele\n",
    "from sklearn.metrics import classification_report\n",
    "print(classification_report(y, y_pred))\n",
    "from sklearn.metrics import accuracy_score\n",
    "print(accuracy_score(y, y_pred)) \n",
    "from sklearn.metrics import confusion_matrix\n",
    "print(confusion_matrix(y, y_pred))"
   ]
  },
  {
   "cell_type": "code",
   "execution_count": null,
   "metadata": {
    "ExecuteTime": {
     "end_time": "2020-04-07T14:28:10.511855Z",
     "start_time": "2020-04-07T14:28:10.497863Z"
    }
   },
   "outputs": [],
   "source": []
  },
  {
   "cell_type": "markdown",
   "metadata": {
    "ExecuteTime": {
     "end_time": "2020-04-07T12:33:27.658589Z",
     "start_time": "2020-04-07T12:33:27.653590Z"
    }
   },
   "source": [
    "#### Test 4: Avec une régression logistique"
   ]
  },
  {
   "cell_type": "code",
   "execution_count": 38,
   "metadata": {
    "ExecuteTime": {
     "end_time": "2020-04-08T12:41:26.474775Z",
     "start_time": "2020-04-08T12:41:26.464795Z"
    }
   },
   "outputs": [],
   "source": [
    "valid_test = pd.DataFrame(X_test, columns = train.columns)\n",
    "valid_test['predicted'] = modelLR.predict(X_test)\n",
    "\n",
    "THRESHOLD = 0.5\n",
    "preds = np.where(modelLR.predict_proba(X_train)[:,1] > THRESHOLD, 1, 0)"
   ]
  },
  {
   "cell_type": "code",
   "execution_count": 39,
   "metadata": {
    "ExecuteTime": {
     "end_time": "2020-04-08T12:40:06.058510Z",
     "start_time": "2020-04-08T12:40:05.782670Z"
    }
   },
   "outputs": [
    {
     "data": {
      "image/png": "[encoded data removed]",
      "text/plain": [
       "<Figure size 432x432 with 1 Axes>"
      ]
     },
     "metadata": {},
     "output_type": "display_data"
    }
   ],
   "source": [
    "from sklearn.metrics import roc_auc_score, roc_curve, auc\n",
    "proba = modelLR.predict_proba(X_train)[:, 1]\n",
    "fpr1, tpr1, thresholds1 = roc_curve(y_train, proba, pos_label=modelLR.classes_[1], drop_intermediate=False)\n",
    "\n",
    "tp = pd.DataFrame(dict(fpr=fpr1, tpr=tpr1, threshold=thresholds1))\n",
    "tp.drop(0, axis=0, inplace=True) #suppression du 1er seuil fixé arbitrairement à 2\n",
    "\n",
    "ax = tp.plot(x=\"threshold\", y=['fpr', 'tpr'], figsize=(6,6))\n",
    "ax.set_title(\"Evolution de FPR, TPR\\nen fonction du seuil au delà duquel\\n\" + \n",
    "             \"la réponse du classifieur est validée\");"
   ]
  },
  {
   "cell_type": "code",
   "execution_count": 40,
   "metadata": {
    "ExecuteTime": {
     "end_time": "2020-04-08T12:40:21.281326Z",
     "start_time": "2020-04-08T12:40:21.272331Z"
    }
   },
   "outputs": [
    {
     "data": {
      "text/plain": [
       "(527,)"
      ]
     },
     "execution_count": 40,
     "metadata": {},
     "output_type": "execute_result"
    }
   ],
   "source": [
    "from sklearn.metrics import roc_auc_score, roc_curve, auc\n",
    "proba = modelLR.predict_proba(X_train)[:, 0]\n",
    "fpr0, tpr0, thresholds0 = roc_curve(y_train, proba, pos_label=modelLR.classes_[0], drop_intermediate=False)\n",
    "thresholds0.shape"
   ]
  },
  {
   "cell_type": "code",
   "execution_count": 41,
   "metadata": {
    "ExecuteTime": {
     "end_time": "2020-04-08T12:40:24.404705Z",
     "start_time": "2020-04-08T12:40:23.926979Z"
    }
   },
   "outputs": [
    {
     "name": "stdout",
     "output_type": "stream",
     "text": [
      "0.8409528267540438\n"
     ]
    },
    {
     "data": {
      "text/plain": [
       "<matplotlib.legend.Legend at 0x7f12b0a2e0d0>"
      ]
     },
     "execution_count": 41,
     "metadata": {},
     "output_type": "execute_result"
    },
    {
     "data": {
      "image/png": "[encoded data removed]",
      "text/plain": [
       "<Figure size 432x432 with 1 Axes>"
      ]
     },
     "metadata": {},
     "output_type": "display_data"
    }
   ],
   "source": [
    "fig, ax = plt.subplots(1, 1, figsize=(6,6))\n",
    "ax.plot([0, 1], [0, 1], 'k--')\n",
    "aucf = auc(fpr0, tpr0)\n",
    "print(aucf)\n",
    "ax.plot(fpr0, tpr0, label='auc=%1.5f' % aucf)\n",
    "ax.set_title('Courbe ROC')\n",
    "ax.text(0.5, 0.3, \"plus mauvais que\\nle hasard dans\\ncette zone\")\n",
    "ax.legend()"
   ]
  },
  {
   "cell_type": "code",
   "execution_count": 42,
   "metadata": {
    "ExecuteTime": {
     "end_time": "2020-04-08T12:40:27.390372Z",
     "start_time": "2020-04-08T12:40:27.377392Z"
    }
   },
   "outputs": [
    {
     "data": {
      "text/html": [
       "<div>\n",
       "<style scoped>\n",
       "    .dataframe tbody tr th:only-of-type {\n",
       "        vertical-align: middle;\n",
       "    }\n",
       "\n",
       "    .dataframe tbody tr th {\n",
       "        vertical-align: top;\n",
       "    }\n",
       "\n",
       "    .dataframe thead th {\n",
       "        text-align: right;\n",
       "    }\n",
       "</style>\n",
       "<table border=\"1\" class=\"dataframe\">\n",
       "  <thead>\n",
       "    <tr style=\"text-align: right;\">\n",
       "      <th></th>\n",
       "      <th>Survived</th>\n",
       "      <th>Not Survived</th>\n",
       "    </tr>\n",
       "  </thead>\n",
       "  <tbody>\n",
       "    <tr>\n",
       "      <th>Survived</th>\n",
       "      <td>288</td>\n",
       "      <td>60</td>\n",
       "    </tr>\n",
       "    <tr>\n",
       "      <th>Not Survived</th>\n",
       "      <td>66</td>\n",
       "      <td>155</td>\n",
       "    </tr>\n",
       "  </tbody>\n",
       "</table>\n",
       "</div>"
      ],
      "text/plain": [
       "              Survived  Not Survived\n",
       "Survived           288            60\n",
       "Not Survived        66           155"
      ]
     },
     "execution_count": 42,
     "metadata": {},
     "output_type": "execute_result"
    }
   ],
   "source": [
    "# Matrice de confusion\n",
    "from sklearn.metrics import confusion_matrix\n",
    "\n",
    "cm = pd.DataFrame(confusion_matrix(y_train, modelLR.predict(X_train)), columns=['Survived', 'Not Survived'])\n",
    "cm.index = ['Survived', 'Not Survived']\n",
    "cm"
   ]
  },
  {
   "cell_type": "markdown",
   "metadata": {},
   "source": [
    "# PREDICTIONS ON TEST FILE"
   ]
  },
  {
   "cell_type": "markdown",
   "metadata": {},
   "source": [
    "#### Mise en application du modèle 1"
   ]
  },
  {
   "cell_type": "code",
   "execution_count": 43,
   "metadata": {
    "ExecuteTime": {
     "end_time": "2020-04-08T13:58:09.356770Z",
     "start_time": "2020-04-08T13:58:09.320789Z"
    }
   },
   "outputs": [
    {
     "data": {
      "text/plain": [
       "array([0, 0, 1, 1, 1, 0, 0, 0, 1, 0, 0, 1, 0, 0, 1, 1, 0, 0, 0, 1, 0, 0,\n",
       "       0, 1, 1, 1, 1, 1, 1, 1, 0, 0, 0, 1, 0, 1, 0, 1, 0, 0, 0, 1, 1, 1,\n",
       "       0, 0, 1, 0, 1, 0, 0, 1, 0, 1, 0, 0, 0, 0, 0, 1, 0, 1, 0, 0, 1, 1,\n",
       "       0, 1, 0, 0, 0, 1, 1, 1, 1, 0, 0, 0, 1, 0, 1, 0, 1, 0, 0, 0, 1, 1,\n",
       "       1, 1, 0, 0, 0, 0, 1, 1, 0, 0, 0, 0, 1, 0, 0, 0, 1, 0, 0, 0, 0, 0,\n",
       "       1, 0, 1, 0, 0, 0, 0, 1, 0, 0, 1, 0, 1, 1, 1, 0, 0, 1, 0, 0, 0, 0,\n",
       "       1, 0, 0, 1, 1, 0, 1, 0, 0, 1, 0])"
      ]
     },
     "metadata": {},
     "output_type": "display_data"
    },
    {
     "data": {
      "text/plain": [
       "<function __main__.g1(x)>"
      ]
     },
     "execution_count": 43,
     "metadata": {},
     "output_type": "execute_result"
    }
   ],
   "source": [
    "def g1(x):\n",
    "    y_test_prob = np.where(logreg1.predict_proba(X_test)[:,1] > x, 1, 0)\n",
    "    return y_test_prob\n",
    "widgets.interact(g1, x=widgets.FloatSlider(min=0, max=1, step=0.01, value=0.5))"
   ]
  },
  {
   "cell_type": "markdown",
   "metadata": {},
   "source": [
    "#### Mise en application du modèle 2"
   ]
  },
  {
   "cell_type": "code",
   "execution_count": 44,
   "metadata": {
    "ExecuteTime": {
     "end_time": "2020-04-08T12:57:37.593099Z",
     "start_time": "2020-04-08T12:57:37.579104Z"
    }
   },
   "outputs": [
    {
     "name": "stdout",
     "output_type": "stream",
     "text": [
      "[1 0 1 1 1 1 0 0 1 0 0 0 0 0 1 1 0 0 0 1 0 0 1 1 1 0 1 1 0 1 0 1 0 1 0 1 0\n",
      " 1 0 0 0 1 1 1 0 0 1 0 1 1 0 1 0 0 0 1 1 0 1 1 0 1 1 1 1 1 0 1 0 0 0 1 1 1\n",
      " 1 0 0 0 1 0 0 1 1 0 0 0 1 1 1 1 0 0 0 0 1 1 0 0 1 0 1 0 0 0 1 0 0 0 0 0 1\n",
      " 0 1 0 0 1 0 1 0 0 0 0 1 1 1 0 0 1 0 0 0 0 1 0 1 1 1 1 1 0 0 1 0]\n"
     ]
    }
   ],
   "source": [
    "y_test_pred = modelKNN.predict(X_test)\n",
    "print(y_test_pred)"
   ]
  },
  {
   "cell_type": "markdown",
   "metadata": {},
   "source": [
    "#### Mise en application du modèle 3"
   ]
  },
  {
   "cell_type": "code",
   "execution_count": 45,
   "metadata": {
    "ExecuteTime": {
     "end_time": "2020-04-08T13:55:38.479410Z",
     "start_time": "2020-04-08T13:55:38.470417Z"
    }
   },
   "outputs": [
    {
     "data": {
      "text/plain": [
       "array([0, 0, 1, 1, 1, 0, 0, 0, 1, 0, 0, 1, 0, 0, 1, 1, 0, 0, 0, 1, 0, 0,\n",
       "       0, 1, 1, 1, 1, 1, 1, 1, 0, 0, 0, 1, 0, 1, 0, 1, 0, 0, 0, 1, 1, 1,\n",
       "       0, 0, 1, 0, 1, 0, 0, 1, 0, 1, 0, 0, 0, 0, 0, 1, 0, 1, 0, 0, 1, 1,\n",
       "       0, 1, 0, 0, 0, 1, 1, 1, 1, 0, 0, 0, 1, 0, 1, 0, 1, 0, 0, 0, 1, 1,\n",
       "       1, 1, 0, 0, 0, 0, 1, 1, 0, 0, 0, 0, 1, 0, 0, 0, 1, 0, 0, 0, 0, 0,\n",
       "       1, 0, 1, 0, 0, 0, 0, 1, 0, 0, 1, 0, 1, 1, 1, 0, 0, 1, 0, 0, 0, 0,\n",
       "       1, 0, 0, 1, 1, 0, 1, 0, 0, 1, 0])"
      ]
     },
     "execution_count": 45,
     "metadata": {},
     "output_type": "execute_result"
    }
   ],
   "source": [
    "y_test_pred2 = modelLR.predict(X_test);y_test_pred2"
   ]
  },
  {
   "cell_type": "markdown",
   "metadata": {},
   "source": [
    "#### Mise en application du modèle 4"
   ]
  },
  {
   "cell_type": "code",
   "execution_count": 46,
   "metadata": {
    "ExecuteTime": {
     "end_time": "2020-04-08T13:59:19.077004Z",
     "start_time": "2020-04-08T13:59:19.041008Z"
    }
   },
   "outputs": [
    {
     "data": {
      "text/plain": [
       "array([0, 0, 1, 1, 1, 0, 0, 0, 1, 0, 0, 1, 0, 0, 1, 1, 0, 0, 0, 1, 0, 0,\n",
       "       0, 1, 1, 1, 1, 1, 1, 1, 0, 0, 0, 1, 0, 1, 0, 1, 0, 0, 0, 1, 1, 1,\n",
       "       0, 0, 1, 0, 1, 0, 0, 1, 0, 1, 0, 0, 0, 0, 0, 1, 0, 1, 0, 0, 1, 1,\n",
       "       0, 1, 0, 0, 0, 1, 1, 1, 1, 0, 0, 0, 1, 0, 1, 0, 1, 0, 0, 0, 1, 1,\n",
       "       1, 1, 0, 0, 0, 0, 1, 1, 0, 0, 0, 0, 1, 0, 0, 0, 1, 0, 0, 0, 0, 0,\n",
       "       1, 0, 1, 0, 0, 0, 0, 1, 0, 0, 1, 0, 1, 1, 1, 0, 0, 1, 0, 0, 0, 0,\n",
       "       1, 0, 0, 1, 1, 0, 1, 0, 0, 1, 0])"
      ]
     },
     "metadata": {},
     "output_type": "display_data"
    },
    {
     "data": {
      "text/plain": [
       "<function __main__.g2(x)>"
      ]
     },
     "execution_count": 46,
     "metadata": {},
     "output_type": "execute_result"
    }
   ],
   "source": [
    "def g2(x):\n",
    "    preds = np.where(modelLR.predict_proba(X_test)[:,1] > x, 1, 0)\n",
    "    return preds\n",
    "widgets.interact(g2, x=widgets.FloatSlider(min=0, max=1, step=0.01, value=0.5))"
   ]
  },
  {
   "cell_type": "code",
   "execution_count": 47,
   "metadata": {
    "ExecuteTime": {
     "end_time": "2020-04-08T14:04:44.116524Z",
     "start_time": "2020-04-08T14:04:44.075546Z"
    }
   },
   "outputs": [
    {
     "name": "stdout",
     "output_type": "stream",
     "text": [
      "[0 0 1 1 1 0 0 0 1 0 0 1 0 0 1 1 0 0 0 1 0 0 0 1 1 1 1 1 1 1 0 0 0 1 0 1 0]\n",
      "[1 0 1 1 1 1 0 0 1 0 0 0 0 0 1 1 0 0 0 1 0 0 1 1 1 0 1 1 0 1 0 1 0 1 0 1 0]\n",
      "[0 0 1 1 1 0 0 0 1 0 0 1 0 0 1 1 0 0 0 1 0 0 0 1 1 1 1 1 1 1 0 0 0 1 0 1 0]\n",
      "[0 0 1 1 1 0 0 0 1 0 0 1 0 0 1 1 0 0 0 1 0 0 0 1 1 1 1 1 1 1 0 0 0 1 0 1 0]\n"
     ]
    },
    {
     "data": {
      "text/plain": [
       "<function __main__.comparaisons(x)>"
      ]
     },
     "execution_count": 47,
     "metadata": {},
     "output_type": "execute_result"
    }
   ],
   "source": [
    "def comparaisons(x):\n",
    "    n=37\n",
    "    print(g1(x)[:n])#, , , \n",
    "    print(y_test_pred[:n])\n",
    "    print(y_test_pred2[:n])\n",
    "    print(g2(x)[:n])\n",
    "\n",
    "\n",
    "widgets.interact(comparaisons, x=widgets.FloatSlider(min=0, max=1, step=0.01, value=0.5))"
   ]
  },
  {
   "cell_type": "code",
   "execution_count": null,
   "metadata": {},
   "outputs": [],
   "source": []
  },
  {
   "cell_type": "code",
   "execution_count": null,
   "metadata": {},
   "outputs": [],
   "source": []
  },
  {
   "cell_type": "code",
   "execution_count": null,
   "metadata": {},
   "outputs": [],
   "source": []
  }
 ],
 "metadata": {
  "kernelspec": {
   "display_name": "Python 3",
   "language": "python",
   "name": "python3"
  },
  "language_info": {
   "codemirror_mode": {
    "name": "ipython",
    "version": 3
   },
   "file_extension": ".py",
   "mimetype": "text/x-python",
   "name": "python",
   "nbconvert_exporter": "python",
   "pygments_lexer": "ipython3",
   "version": "3.7.5"
  },
  "varInspector": {
   "cols": {
    "lenName": 16,
    "lenType": 16,
    "lenVar": 40
   },
   "kernels_config": {
    "python": {
     "delete_cmd_postfix": "",
     "delete_cmd_prefix": "del ",
     "library": "var_list.py",
     "varRefreshCmd": "print(var_dic_list())"
    },
    "r": {
     "delete_cmd_postfix": ") ",
     "delete_cmd_prefix": "rm(",
     "library": "var_list.r",
     "varRefreshCmd": "cat(var_dic_list()) "
    }
   },
   "types_to_exclude": [
    "module",
    "function",
    "builtin_function_or_method",
    "instance",
    "_Feature"
   ],
   "window_display": false
  }
 },
 "nbformat": 4,
 "nbformat_minor": 4
}
